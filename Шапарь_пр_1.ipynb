{
  "nbformat": 4,
  "nbformat_minor": 0,
  "metadata": {
    "colab": {
      "provenance": [],
      "include_colab_link": true
    },
    "kernelspec": {
      "name": "python3",
      "display_name": "Python 3"
    },
    "language_info": {
      "name": "python"
    }
  },
  "cells": [
    {
      "cell_type": "markdown",
      "metadata": {
        "id": "view-in-github",
        "colab_type": "text"
      },
      "source": [
        "<a href=\"https://colab.research.google.com/github/Vlad-Shapar/machine-learning/blob/main/%D0%A8%D0%B0%D0%BF%D0%B0%D1%80%D1%8C_%D0%BF%D1%80_1.ipynb\" target=\"_parent\"><img src=\"https://colab.research.google.com/assets/colab-badge.svg\" alt=\"Open In Colab\"/></a>"
      ]
    },
    {
      "cell_type": "code",
      "execution_count": null,
      "metadata": {
        "id": "QKradD8hB7A5"
      },
      "outputs": [],
      "source": [
        "'''варіант 30'''"
      ]
    },
    {
      "cell_type": "code",
      "source": [
        "'''Завдання 1.\n",
        "Створіть одновимірний масив (вектор) з добутками квадратів кожного числа та його\n",
        "подвійного значення, починаючи з 1, та виведіть його значення.'''\n",
        "\n",
        "import numpy as np\n",
        "\n",
        "n = 10\n",
        "vector = np.arange(1, n + 1)\n",
        "result = (vector ** 2) * (2 * vector)\n",
        "print(result)\n"
      ],
      "metadata": {
        "colab": {
          "base_uri": "https://localhost:8080/"
        },
        "id": "GjTv_rlSCg8s",
        "outputId": "034c4bbc-5865-49f7-88e6-b30530f5f80a"
      },
      "execution_count": null,
      "outputs": [
        {
          "output_type": "stream",
          "name": "stdout",
          "text": [
            "[   2   16   54  128  250  432  686 1024 1458 2000]\n"
          ]
        }
      ]
    },
    {
      "cell_type": "code",
      "source": [
        "'''Завдання 2\n",
        "Створіть двовимірний масив (матрицю) розміром 3x3, заповніть його значеннями\n",
        "коренів квадратних перших натуральних чисел.'''\n",
        "\n",
        "import numpy as np\n",
        "\n",
        "matrix = np.sqrt(np.arange(1, 10)).reshape(3, 3)\n",
        "print(matrix)\n"
      ],
      "metadata": {
        "colab": {
          "base_uri": "https://localhost:8080/"
        },
        "id": "1LbEJH_CClch",
        "outputId": "17dc778f-94a7-46e1-e3fb-9644e388052e"
      },
      "execution_count": null,
      "outputs": [
        {
          "output_type": "stream",
          "name": "stdout",
          "text": [
            "[[1.         1.41421356 1.73205081]\n",
            " [2.         2.23606798 2.44948974]\n",
            " [2.64575131 2.82842712 3.        ]]\n"
          ]
        }
      ]
    },
    {
      "cell_type": "code",
      "source": [
        "'''Завдання 3\n",
        "Створіть масив розміром 5x5, заповніть його випадковими цілими числами від -10 до\n",
        "10 та знайдіть кількість парних чисел. Виведіть їх.'''\n",
        "\n",
        "import numpy as np\n",
        "\n",
        "array = np.random.randint(-10, 11, (5, 5))\n",
        "even_numbers = array[array % 2 == 0]\n",
        "count_even = len(even_numbers)\n",
        "print(array)\n",
        "print(f\"Even numbers: {even_numbers}\")\n",
        "print(f\"Count of even numbers: {count_even}\")\n"
      ],
      "metadata": {
        "colab": {
          "base_uri": "https://localhost:8080/"
        },
        "id": "4m1p6jBZClfI",
        "outputId": "e1548b95-2e6a-4758-c626-d0cc62c1d5a2"
      },
      "execution_count": null,
      "outputs": [
        {
          "output_type": "stream",
          "name": "stdout",
          "text": [
            "[[ 0  4 10  0 -1]\n",
            " [ 9 -9 -1 -7 -9]\n",
            " [ 5 -1 -3 -9  5]\n",
            " [-9  8  7 -1 -8]\n",
            " [ 0 -8 -8 -8 -9]]\n",
            "Even numbers: [ 0  4 10  0  8 -8  0 -8 -8 -8]\n",
            "Count of even numbers: 10\n"
          ]
        }
      ]
    },
    {
      "cell_type": "code",
      "source": [
        "'''Завдання 4\n",
        "Створіть масив розміром 4x4, заповніть його випадковими дійсними числами від -1.6\n",
        "до 1.6 та виведіть його значення.'''\n",
        "\n",
        "import numpy as np\n",
        "\n",
        "array = np.random.uniform(-1.6, 1.6, (4, 4))\n",
        "print(array)\n"
      ],
      "metadata": {
        "colab": {
          "base_uri": "https://localhost:8080/"
        },
        "id": "PnvugR5VClhd",
        "outputId": "22996de0-d582-41c1-b97c-0a7adaa59b67"
      },
      "execution_count": null,
      "outputs": [
        {
          "output_type": "stream",
          "name": "stdout",
          "text": [
            "[[-1.18617775 -0.03266415  0.6139124   0.82691267]\n",
            " [-0.14826557  0.54681742 -1.25998425  1.52361038]\n",
            " [ 0.42934915 -0.8989656  -0.23670583  0.51490245]\n",
            " [ 0.55281048  0.0775399  -1.40449653 -1.35911441]]\n"
          ]
        }
      ]
    },
    {
      "cell_type": "code",
      "source": [
        "'''Завдання 5\n",
        "Створіть два одновимірних масиви розміром 8, заповніть їх випадковими цілими\n",
        "числами в діапазоні від 3 до 8 та виконайте на них поелементні операції додавання,\n",
        "віднімання та множення'''\n",
        "\n",
        "import numpy as np\n",
        "\n",
        "array1 = np.random.randint(3, 9, 8)\n",
        "array2 = np.random.randint(3, 9, 8)\n",
        "\n",
        "addition = array1 + array2\n",
        "subtraction = array1 - array2\n",
        "multiplication = array1 * array2\n",
        "\n",
        "print(\"Addition:\", addition)\n",
        "print(\"Subtraction:\", subtraction)\n",
        "print(\"Multiplication:\", multiplication)\n"
      ],
      "metadata": {
        "colab": {
          "base_uri": "https://localhost:8080/"
        },
        "id": "gPB78_PBClkC",
        "outputId": "0cb7ef15-c308-4422-b165-a9af18b8ca86"
      },
      "execution_count": null,
      "outputs": [
        {
          "output_type": "stream",
          "name": "stdout",
          "text": [
            "Addition: [15 12 12  7 13 13  9 12]\n",
            "Subtraction: [-1 -2 -4  1 -3 -3 -3  2]\n",
            "Multiplication: [56 35 32 12 40 40 18 35]\n"
          ]
        }
      ]
    },
    {
      "cell_type": "code",
      "source": [
        "'''Завдання 6\n",
        "Створіть дві матриці 3x3, заповніть їх довільними цілими числами від 1 до 5 та\n",
        "знайдіть їх добуток.'''\n",
        "\n",
        "import numpy as np\n",
        "\n",
        "matrix1 = np.random.randint(1, 6, (3, 3))\n",
        "matrix2 = np.random.randint(1, 6, (3, 3))\n",
        "\n",
        "product = np.dot(matrix1, matrix2)\n",
        "print(product)\n"
      ],
      "metadata": {
        "colab": {
          "base_uri": "https://localhost:8080/"
        },
        "id": "1wP0kSejClm5",
        "outputId": "9cfa3a00-b56e-48a0-b0d1-60313eaff9f2"
      },
      "execution_count": null,
      "outputs": [
        {
          "output_type": "stream",
          "name": "stdout",
          "text": [
            "[[42 32 18]\n",
            " [38 30 16]\n",
            " [19 16  8]]\n"
          ]
        }
      ]
    },
    {
      "cell_type": "code",
      "source": [
        "'''Завдання 7\n",
        "Створіть дві матриці розміром 3x2 та 2x4, заповніть їх випадковими цілими числами\n",
        "в діапазоні від 1 до 10 та перемножте їх між собою.'''\n",
        "\n",
        "import numpy as np\n",
        "\n",
        "matrix1 = np.random.randint(1, 11, (3, 2))\n",
        "matrix2 = np.random.randint(1, 11, (2, 4))\n",
        "\n",
        "product = np.dot(matrix1, matrix2)\n",
        "print(product)\n"
      ],
      "metadata": {
        "colab": {
          "base_uri": "https://localhost:8080/"
        },
        "id": "39Kyq7QIClo_",
        "outputId": "fa6ff158-c4f8-467a-fe5f-e829add54d31"
      },
      "execution_count": null,
      "outputs": [
        {
          "output_type": "stream",
          "name": "stdout",
          "text": [
            "[[ 74 115  75 112]\n",
            " [ 30  65  35  50]\n",
            " [ 88 140  90 134]]\n"
          ]
        }
      ]
    },
    {
      "cell_type": "code",
      "source": [
        "'''Завдання 8\n",
        "Створіть матрицю розміром 3x3, заповніть її випадковими цілими числами в діапазоні\n",
        "від 1 до 7 та знайдіть її обернену матрицю.'''\n",
        "\n",
        "import numpy as np\n",
        "\n",
        "matrix = np.random.randint(1, 8, (3, 3))\n",
        "inverse_matrix = np.linalg.inv(matrix)\n",
        "print(inverse_matrix)"
      ],
      "metadata": {
        "colab": {
          "base_uri": "https://localhost:8080/"
        },
        "id": "3_WQeTLLClrJ",
        "outputId": "fcf5d7e6-bb46-41fd-e274-d619feeccbad"
      },
      "execution_count": null,
      "outputs": [
        {
          "output_type": "stream",
          "name": "stdout",
          "text": [
            "[[-0.05454545  0.29090909 -0.2       ]\n",
            " [ 0.30909091  0.01818182 -0.2       ]\n",
            " [-0.16363636 -0.12727273  0.4       ]]\n"
          ]
        }
      ]
    },
    {
      "cell_type": "code",
      "source": [
        "'''Завдання 9\n",
        "Створіть матрицю розміром 5x5, заповніть її випадковими цілими числами в діапазоні\n",
        "від 0 до 5 та транспонуйте її.'''\n",
        "\n",
        "import numpy as np\n",
        "\n",
        "matrix = np.random.randint(0, 6, (5, 5))\n",
        "transposed_matrix = np.transpose(matrix)\n",
        "print(transposed_matrix)\n"
      ],
      "metadata": {
        "colab": {
          "base_uri": "https://localhost:8080/"
        },
        "id": "DfQbeAZhCltk",
        "outputId": "1fc2becc-d8d5-44e5-ca98-da22e2fd98cf"
      },
      "execution_count": null,
      "outputs": [
        {
          "output_type": "stream",
          "name": "stdout",
          "text": [
            "[[3 4 3 2 2]\n",
            " [2 4 2 4 0]\n",
            " [3 5 4 2 2]\n",
            " [5 4 4 3 3]\n",
            " [0 4 4 1 0]]\n"
          ]
        }
      ]
    },
    {
      "cell_type": "code",
      "source": [
        "'''Завдання 10\n",
        "Створіть матрицю розміром 3x4 та вектор розміром 4x1, заповніть матрицю\n",
        "випадковими дійсними числами від 0 до 1, а вектор - випадковими дійсними числами\n",
        "від 0 до 1, і знайдіть добуток матриці на вектор.'''\n",
        "\n",
        "import numpy as np\n",
        "\n",
        "matrix = np.random.uniform(0, 1, (3, 4))\n",
        "vector = np.random.uniform(0, 1, (4, 1))\n",
        "\n",
        "product = np.dot(matrix, vector)\n",
        "print(product)\n"
      ],
      "metadata": {
        "colab": {
          "base_uri": "https://localhost:8080/"
        },
        "id": "D96bopKAClvx",
        "outputId": "46c03ee0-64bd-499c-fff4-f5a828c960f3"
      },
      "execution_count": null,
      "outputs": [
        {
          "output_type": "stream",
          "name": "stdout",
          "text": [
            "[[0.98983013]\n",
            " [1.68058775]\n",
            " [1.37857659]]\n"
          ]
        }
      ]
    },
    {
      "cell_type": "code",
      "source": [
        "'''Завдання 11\n",
        "Створіть матрицю розміром 2x3 та вектор розміром 3x1, заповніть матрицю\n",
        "випадковими дійсними числами від 0 до 1, а вектор - випадковими цілими числами в\n",
        "діапазоні від 1 до 10, і знайдіть добуток матриці на вектор.'''\n",
        "\n",
        "import numpy as np\n",
        "\n",
        "matrix = np.random.uniform(0, 1, (2, 3))\n",
        "vector = np.random.randint(1, 11, (3, 1))\n",
        "\n",
        "product = np.dot(matrix, vector)\n",
        "print(product)\n"
      ],
      "metadata": {
        "colab": {
          "base_uri": "https://localhost:8080/"
        },
        "id": "_T4SCrYwClyM",
        "outputId": "a0fe9a98-d52b-4065-8ac6-ffb49c9a86f1"
      },
      "execution_count": null,
      "outputs": [
        {
          "output_type": "stream",
          "name": "stdout",
          "text": [
            "[[4.69378617]\n",
            " [8.84574719]]\n"
          ]
        }
      ]
    },
    {
      "cell_type": "code",
      "source": [
        "'''Завдання 12\n",
        "Створіть дві матриці розміром 3x3, заповніть їх випадковими цілими числами в\n",
        "діапазоні від -3 до 3 та знайдіть відношення всіх елементів другої матриці до\n",
        "відповідних елементів першої матриці (поелементне ділення).'''\n",
        "\n",
        "import numpy as np\n",
        "\n",
        "matrix1 = np.random.randint(-3, 4, (3, 3))\n",
        "matrix2 = np.random.randint(-3, 4, (3, 3))\n",
        "\n",
        "zero_divisors = matrix1 == 0\n",
        "ratio = np.divide(matrix2, matrix1, where=~zero_divisors)\n",
        "ratio[zero_divisors] = np.inf\n",
        "\n",
        "print(ratio)\n"
      ],
      "metadata": {
        "colab": {
          "base_uri": "https://localhost:8080/"
        },
        "id": "5QbqCv5BCl0w",
        "outputId": "6950840d-d2aa-4737-d2b3-0a68cc169537"
      },
      "execution_count": null,
      "outputs": [
        {
          "output_type": "stream",
          "name": "stdout",
          "text": [
            "[[ 1.         -0.66666667  1.        ]\n",
            " [-3.         -1.          3.        ]\n",
            " [ 0.          3.          2.        ]]\n"
          ]
        }
      ]
    },
    {
      "cell_type": "code",
      "source": [
        "'''Завдання 13\n",
        "Створіть дві матриці розміром 3x3, заповніть їх випадковими цілими числами в\n",
        "діапазоні від -5 до 5 та знайдіть суму їх елементів.'''\n",
        "\n",
        "import numpy as np\n",
        "\n",
        "matrix1 = np.random.randint(-5, 6, (3, 3))\n",
        "matrix2 = np.random.randint(-5, 6, (3, 3))\n",
        "\n",
        "sum_matrix1 = np.sum(matrix1)\n",
        "sum_matrix2 = np.sum(matrix2)\n",
        "\n",
        "print(\"Sum of elements in matrix1:\", sum_matrix1)\n",
        "print(\"Sum of elements in matrix2:\", sum_matrix2)\n"
      ],
      "metadata": {
        "colab": {
          "base_uri": "https://localhost:8080/"
        },
        "id": "sCEQw-lICl4J",
        "outputId": "de0919aa-c6eb-4e97-9dee-1ea09077925e"
      },
      "execution_count": null,
      "outputs": [
        {
          "output_type": "stream",
          "name": "stdout",
          "text": [
            "Sum of elements in matrix1: -3\n",
            "Sum of elements in matrix2: 8\n"
          ]
        }
      ]
    },
    {
      "cell_type": "code",
      "source": [
        "'''Завдання 14\n",
        "Створіть матрицю розміром 4x4, заповніть її випадковими цілими числами в діапазоні\n",
        "від 1 до 10 та знайдіть кількість елементів, що дорівнюють нулю.'''\n",
        "\n",
        "import numpy as np\n",
        "\n",
        "matrix = np.random.randint(1, 11, (4, 4))\n",
        "count_zeros = np.sum(matrix == 0)\n",
        "print(matrix)\n",
        "print(\"Number of zeros:\", count_zeros)\n"
      ],
      "metadata": {
        "colab": {
          "base_uri": "https://localhost:8080/"
        },
        "id": "Pmlox8qXDmZA",
        "outputId": "54d7b67a-e82c-4c60-cb4d-f0c469ac9162"
      },
      "execution_count": null,
      "outputs": [
        {
          "output_type": "stream",
          "name": "stdout",
          "text": [
            "[[ 7 10  9  9]\n",
            " [ 8  3  3  3]\n",
            " [ 6  4  8  7]\n",
            " [ 9  1  2  7]]\n",
            "Number of zeros: 0\n"
          ]
        }
      ]
    },
    {
      "cell_type": "code",
      "source": [
        "'''Завдання 15\n",
        "Створіть матрицю розміром 3x3, заповніть її випадковими дійсними числами в\n",
        "діапазоні від -1 до 1 та знайдіть вектор-стовпчик, що містить суму кубів елементів\n",
        "кожного стовпця матриці.'''\n",
        "\n",
        "import numpy as np\n",
        "\n",
        "matrix = np.random.uniform(-1, 1, (3, 3))\n",
        "column_sums = np.sum(matrix**3, axis=0)\n",
        "print(\"Vector of column sums of cubes:\", column_sums)\n"
      ],
      "metadata": {
        "colab": {
          "base_uri": "https://localhost:8080/"
        },
        "id": "1PqDKLK_CmOQ",
        "outputId": "1f79d886-56a3-4a87-def6-ffa247698bf8"
      },
      "execution_count": null,
      "outputs": [
        {
          "output_type": "stream",
          "name": "stdout",
          "text": [
            "Vector of column sums of cubes: [ 0.15900026 -0.74856155 -0.27136691]\n"
          ]
        }
      ]
    },
    {
      "cell_type": "markdown",
      "source": [
        "**Висновок до лабораторної роботи**\n",
        "У ході лабораторної роботи були виконані завдання, що включають обробку даних за допомогою бібліотеки NumPy. Було реалізовано наступні операції:\n",
        "\n",
        "1. Створення одновимірного масиву з добутками квадратів чисел і їх подвійного значення.\n",
        "2. Створення матриці 3x3 з коренями квадратними перших натуральних чисел.\n",
        "3. Заповнення масиву випадковими цілими числами та підрахунок парних чисел.\n",
        "4. Транспонування матриці 4x4 з випадковими дійсними числами.\n",
        "5. Поелементні операції додавання, віднімання і множення над двома масивами.\n",
        "6. Перемноження матриць 3x3 та матриць різних розмірів (3x2 і 2x4).\n",
        "7. Знаходження оберненої матриці для випадкової матриці 3x3.\n",
        "8. Транспонування матриці 5x5 і підрахунок кількості нульових елементів у матриці 4x4.\n",
        "9. Множення матриці 3x4 на вектор 4x1 та матриці 2x3 на вектор 3x1.\n",
        "10. Поелементне ділення двох матриць 3x3 і обчислення суми кубів елементів кожного стовпця.\n",
        "\n",
        "Виконання цих завдань дозволило закріпити знання основних функцій бібліотеки NumPy для обробки масивів та матриць."
      ],
      "metadata": {
        "id": "ESgWS4fcMg2f"
      }
    }
  ]
}