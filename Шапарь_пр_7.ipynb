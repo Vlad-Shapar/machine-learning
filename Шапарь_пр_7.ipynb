{
  "nbformat": 4,
  "nbformat_minor": 0,
  "metadata": {
    "colab": {
      "provenance": [],
      "authorship_tag": "ABX9TyNlCKGP9tIEWMCl+ipRyFa3",
      "include_colab_link": true
    },
    "kernelspec": {
      "name": "python3",
      "display_name": "Python 3"
    },
    "language_info": {
      "name": "python"
    }
  },
  "cells": [
    {
      "cell_type": "markdown",
      "metadata": {
        "id": "view-in-github",
        "colab_type": "text"
      },
      "source": [
        "<a href=\"https://colab.research.google.com/github/Vlad-Shapar/machine-learning/blob/main/%D0%A8%D0%B0%D0%BF%D0%B0%D1%80%D1%8C_%D0%BF%D1%80_7.ipynb\" target=\"_parent\"><img src=\"https://colab.research.google.com/assets/colab-badge.svg\" alt=\"Open In Colab\"/></a>"
      ]
    },
    {
      "cell_type": "code",
      "execution_count": 1,
      "metadata": {
        "colab": {
          "base_uri": "https://localhost:8080/"
        },
        "id": "i8WWMnTVQBV1",
        "outputId": "3bd7a913-6255-40cf-993e-f8c94e0cddd7"
      },
      "outputs": [
        {
          "output_type": "stream",
          "name": "stdout",
          "text": [
            "Collecting scikit-surprise\n",
            "  Downloading scikit_surprise-1.1.4.tar.gz (154 kB)\n",
            "\u001b[?25l     \u001b[90m━━━━━━━━━━━━━━━━━━━━━━━━━━━━━━━━━━━━━━━━\u001b[0m \u001b[32m0.0/154.4 kB\u001b[0m \u001b[31m?\u001b[0m eta \u001b[36m-:--:--\u001b[0m\r\u001b[2K     \u001b[91m━━━━━━━━━━━━━━━━━━━━━━━━━━━━━━━━━━━━━━━\u001b[0m\u001b[91m╸\u001b[0m \u001b[32m153.6/154.4 kB\u001b[0m \u001b[31m5.7 MB/s\u001b[0m eta \u001b[36m0:00:01\u001b[0m\r\u001b[2K     \u001b[90m━━━━━━━━━━━━━━━━━━━━━━━━━━━━━━━━━━━━━━━━\u001b[0m \u001b[32m154.4/154.4 kB\u001b[0m \u001b[31m2.6 MB/s\u001b[0m eta \u001b[36m0:00:00\u001b[0m\n",
            "\u001b[?25h  Installing build dependencies ... \u001b[?25l\u001b[?25hdone\n",
            "  Getting requirements to build wheel ... \u001b[?25l\u001b[?25hdone\n",
            "  Preparing metadata (pyproject.toml) ... \u001b[?25l\u001b[?25hdone\n",
            "Requirement already satisfied: joblib>=1.2.0 in /usr/local/lib/python3.10/dist-packages (from scikit-surprise) (1.4.2)\n",
            "Requirement already satisfied: numpy>=1.19.5 in /usr/local/lib/python3.10/dist-packages (from scikit-surprise) (1.26.4)\n",
            "Requirement already satisfied: scipy>=1.6.0 in /usr/local/lib/python3.10/dist-packages (from scikit-surprise) (1.13.1)\n",
            "Building wheels for collected packages: scikit-surprise\n",
            "  Building wheel for scikit-surprise (pyproject.toml) ... \u001b[?25l\u001b[?25hdone\n",
            "  Created wheel for scikit-surprise: filename=scikit_surprise-1.1.4-cp310-cp310-linux_x86_64.whl size=2357280 sha256=ccb58b5317aac5c316e24562087246ca27005dd5ce710537692f88d0d337e3be\n",
            "  Stored in directory: /root/.cache/pip/wheels/4b/3f/df/6acbf0a40397d9bf3ff97f582cc22fb9ce66adde75bc71fd54\n",
            "Successfully built scikit-surprise\n",
            "Installing collected packages: scikit-surprise\n",
            "Successfully installed scikit-surprise-1.1.4\n"
          ]
        }
      ],
      "source": [
        "!pip install scikit-surprise"
      ]
    },
    {
      "cell_type": "code",
      "source": [
        "'''Завдання 1.\n",
        "1. Завантажте датасет для рецензій (ml-100k) за допомогою бібліотеки\n",
        "Surprise.'''\n",
        "from surprise import accuracy, Dataset, SVD\n",
        "from surprise.model_selection import train_test_split\n",
        "\n",
        "data = Dataset.load_builtin(\"ml-100k\")\n",
        "\n",
        "trainset, testset = train_test_split(data, test_size=0.25)\n",
        "algo = SVD()\n",
        "\n",
        "algo.fit(trainset)\n",
        "predictions = algo.test(testset)\n",
        "\n",
        "accuracy.rmse(predictions)\n"
      ],
      "metadata": {
        "colab": {
          "base_uri": "https://localhost:8080/"
        },
        "id": "O7ofid-rQGuv",
        "outputId": "6eaadf20-93dd-4083-97d8-cc5e226eee3a"
      },
      "execution_count": 2,
      "outputs": [
        {
          "output_type": "stream",
          "name": "stdout",
          "text": [
            "Dataset ml-100k could not be found. Do you want to download it? [Y/n] y\n",
            "Trying to download dataset from https://files.grouplens.org/datasets/movielens/ml-100k.zip...\n",
            "Done! Dataset ml-100k has been saved to /root/.surprise_data/ml-100k\n",
            "RMSE: 0.9413\n"
          ]
        },
        {
          "output_type": "execute_result",
          "data": {
            "text/plain": [
              "0.9412872334079756"
            ]
          },
          "metadata": {},
          "execution_count": 2
        }
      ]
    },
    {
      "cell_type": "code",
      "source": [
        "'''2. Виведіть перші 5 рядків завантаженого датасету.'''\n",
        "from surprise import Dataset, Reader\n",
        "from surprise import SVD, KNNBasic\n",
        "from surprise.model_selection import cross_validate, GridSearchCV\n",
        "from surprise import accuracy\n",
        "from surprise.model_selection import train_test_split\n",
        "\n",
        "data = Dataset.load_builtin('ml-100k')\n",
        "\n",
        "print(\"Перші 5 рядків датасету:\")\n",
        "for row in data.raw_ratings[:5]:\n",
        "    user_id, movie_id, rating, timestamp = row\n",
        "    print(f\"Користувач {user_id} оцінив фільм {movie_id} на {rating} балів (часова позначка: {timestamp})\")"
      ],
      "metadata": {
        "colab": {
          "base_uri": "https://localhost:8080/"
        },
        "id": "OA3v0594QGxB",
        "outputId": "6d9e2295-c84d-44ee-fd2d-039b4dd93ef4"
      },
      "execution_count": 3,
      "outputs": [
        {
          "output_type": "stream",
          "name": "stdout",
          "text": [
            "Перші 5 рядків датасету:\n",
            "Користувач 196 оцінив фільм 242 на 3.0 балів (часова позначка: 881250949)\n",
            "Користувач 186 оцінив фільм 302 на 3.0 балів (часова позначка: 891717742)\n",
            "Користувач 22 оцінив фільм 377 на 1.0 балів (часова позначка: 878887116)\n",
            "Користувач 244 оцінив фільм 51 на 2.0 балів (часова позначка: 880606923)\n",
            "Користувач 166 оцінив фільм 346 на 1.0 балів (часова позначка: 886397596)\n"
          ]
        }
      ]
    },
    {
      "cell_type": "code",
      "source": [
        "'''3. Реалізуйте два алгоритми для рекомендаційної системи на основі цього\n",
        "датасету. Можна вибрати будь-які алгоритми з бібліотеки Surprise.\n",
        "4. Використайте крос-валідацію для підбору оптимальних параметрів для\n",
        "обох алгоритмів.'''\n",
        "trainset, testset = train_test_split(data, test_size=0.2)\n",
        "\n",
        "# Параметри для підбору через GridSearchCV для SVD\n",
        "param_grid_svd = {\n",
        "    'n_factors': [25, 100],\n",
        "    'lr_all': [0.005, 0.015],\n",
        "    'reg_all': [0.02, 0.05]\n",
        "}\n",
        "\n",
        "# Параметри для підбору через GridSearchCV для KNNBasic\n",
        "param_grid_knn = {\n",
        "    'k': [20, 40],\n",
        "    'min_k': [1, 3],\n",
        "    'sim_options': {\n",
        "        'name': ['cosine', 'pearson'],\n",
        "        'user_based': [False, True]\n",
        "    }\n",
        "}\n",
        "\n",
        "grid_search_svd = GridSearchCV(SVD, param_grid_svd, measures=['rmse', 'mae'], cv=5)\n",
        "grid_search_svd.fit(data)\n",
        "\n",
        "grid_search_knn = GridSearchCV(KNNBasic, param_grid_knn, measures=['rmse', 'mae'], cv=3)\n",
        "grid_search_knn.fit(data)\n",
        "\n"
      ],
      "metadata": {
        "colab": {
          "base_uri": "https://localhost:8080/"
        },
        "id": "7W5JesgNQGzR",
        "outputId": "c221a3d9-340b-4080-e792-142b784087fd"
      },
      "execution_count": 4,
      "outputs": [
        {
          "output_type": "stream",
          "name": "stdout",
          "text": [
            "Computing the cosine similarity matrix...\n",
            "Done computing similarity matrix.\n",
            "Computing the cosine similarity matrix...\n",
            "Done computing similarity matrix.\n",
            "Computing the cosine similarity matrix...\n",
            "Done computing similarity matrix.\n",
            "Computing the cosine similarity matrix...\n",
            "Done computing similarity matrix.\n",
            "Computing the cosine similarity matrix...\n",
            "Done computing similarity matrix.\n",
            "Computing the cosine similarity matrix...\n",
            "Done computing similarity matrix.\n",
            "Computing the pearson similarity matrix...\n",
            "Done computing similarity matrix.\n",
            "Computing the pearson similarity matrix...\n",
            "Done computing similarity matrix.\n",
            "Computing the pearson similarity matrix...\n",
            "Done computing similarity matrix.\n",
            "Computing the pearson similarity matrix...\n",
            "Done computing similarity matrix.\n",
            "Computing the pearson similarity matrix...\n",
            "Done computing similarity matrix.\n",
            "Computing the pearson similarity matrix...\n",
            "Done computing similarity matrix.\n",
            "Computing the cosine similarity matrix...\n",
            "Done computing similarity matrix.\n",
            "Computing the cosine similarity matrix...\n",
            "Done computing similarity matrix.\n",
            "Computing the cosine similarity matrix...\n",
            "Done computing similarity matrix.\n",
            "Computing the cosine similarity matrix...\n",
            "Done computing similarity matrix.\n",
            "Computing the cosine similarity matrix...\n",
            "Done computing similarity matrix.\n",
            "Computing the cosine similarity matrix...\n",
            "Done computing similarity matrix.\n",
            "Computing the pearson similarity matrix...\n",
            "Done computing similarity matrix.\n",
            "Computing the pearson similarity matrix...\n",
            "Done computing similarity matrix.\n",
            "Computing the pearson similarity matrix...\n",
            "Done computing similarity matrix.\n",
            "Computing the pearson similarity matrix...\n",
            "Done computing similarity matrix.\n",
            "Computing the pearson similarity matrix...\n",
            "Done computing similarity matrix.\n",
            "Computing the pearson similarity matrix...\n",
            "Done computing similarity matrix.\n",
            "Computing the cosine similarity matrix...\n",
            "Done computing similarity matrix.\n",
            "Computing the cosine similarity matrix...\n",
            "Done computing similarity matrix.\n",
            "Computing the cosine similarity matrix...\n",
            "Done computing similarity matrix.\n",
            "Computing the cosine similarity matrix...\n",
            "Done computing similarity matrix.\n",
            "Computing the cosine similarity matrix...\n",
            "Done computing similarity matrix.\n",
            "Computing the cosine similarity matrix...\n",
            "Done computing similarity matrix.\n",
            "Computing the pearson similarity matrix...\n",
            "Done computing similarity matrix.\n",
            "Computing the pearson similarity matrix...\n",
            "Done computing similarity matrix.\n",
            "Computing the pearson similarity matrix...\n",
            "Done computing similarity matrix.\n",
            "Computing the pearson similarity matrix...\n",
            "Done computing similarity matrix.\n",
            "Computing the pearson similarity matrix...\n",
            "Done computing similarity matrix.\n",
            "Computing the pearson similarity matrix...\n",
            "Done computing similarity matrix.\n",
            "Computing the cosine similarity matrix...\n",
            "Done computing similarity matrix.\n",
            "Computing the cosine similarity matrix...\n",
            "Done computing similarity matrix.\n",
            "Computing the cosine similarity matrix...\n",
            "Done computing similarity matrix.\n",
            "Computing the cosine similarity matrix...\n",
            "Done computing similarity matrix.\n",
            "Computing the cosine similarity matrix...\n",
            "Done computing similarity matrix.\n",
            "Computing the cosine similarity matrix...\n",
            "Done computing similarity matrix.\n",
            "Computing the pearson similarity matrix...\n",
            "Done computing similarity matrix.\n",
            "Computing the pearson similarity matrix...\n",
            "Done computing similarity matrix.\n",
            "Computing the pearson similarity matrix...\n",
            "Done computing similarity matrix.\n",
            "Computing the pearson similarity matrix...\n",
            "Done computing similarity matrix.\n",
            "Computing the pearson similarity matrix...\n",
            "Done computing similarity matrix.\n",
            "Computing the pearson similarity matrix...\n",
            "Done computing similarity matrix.\n"
          ]
        }
      ]
    },
    {
      "cell_type": "code",
      "source": [
        "'''5. Оберіть найкращий алгоритм на основі середньої абсолютної помилки\n",
        "(MAE).'''\n",
        "\n",
        "best_svd = grid_search_svd.best_estimator['mae']\n",
        "best_knn = grid_search_knn.best_estimator['mae']\n",
        "\n",
        "print(f\"Найкращий MAE для SVD: {grid_search_svd.best_score['mae']}\")\n",
        "print(f\"Найкращий MAE для KNNBasic: {grid_search_knn.best_score['mae']}\")\n",
        "\n",
        "# Вибір моделі з найменшим MAE\n",
        "if grid_search_svd.best_score['mae'] < grid_search_knn.best_score['mae']:\n",
        "    best_model = best_svd\n",
        "    print(\"Вибраний алгоритм: SVD\")\n",
        "else:\n",
        "    best_model = best_knn\n",
        "    print(\"Вибраний алгоритм: KNNBasic\")\n"
      ],
      "metadata": {
        "colab": {
          "base_uri": "https://localhost:8080/"
        },
        "id": "1hsb3HK3QG1d",
        "outputId": "73bdf12e-594a-4879-bb89-358c78470760"
      },
      "execution_count": 5,
      "outputs": [
        {
          "output_type": "stream",
          "name": "stdout",
          "text": [
            "Найкращий MAE для SVD: 0.7288065397002967\n",
            "Найкращий MAE для KNNBasic: 0.809324447049284\n",
            "Вибраний алгоритм: SVD\n"
          ]
        }
      ]
    },
    {
      "cell_type": "code",
      "source": [
        "'''6. Виведи рекомендації (10 фільмів) для конкретного користувача.'''\n",
        "best_model.fit(trainset)\n",
        "\n",
        "# Виведення рекомендацій для конкретного користувача\n",
        "user_id = str(75)\n",
        "user_ratings = trainset.ur[trainset.to_inner_uid(user_id)]\n",
        "print(f\"Кількість рецензій користувача {user_id}: {len(user_ratings)}\")\n",
        "\n",
        "# Отримання рекомендацій\n",
        "all_items = set(trainset.all_items())\n",
        "rated_items = set([item for (item, _) in user_ratings])\n",
        "unrated_items = all_items - rated_items\n",
        "\n",
        "# Прогнозування рейтингів для нерецензованих фільмів\n",
        "predictions = [(item, best_model.predict(user_id, trainset.to_raw_iid(item)).est) for item in unrated_items]\n",
        "predictions.sort(key=lambda x: x[1], reverse=True)\n",
        "\n",
        "# Виведення 10 найкращих фільмів\n",
        "print(\"Топ-10 фільмів, рекомендованих для користувача:\")\n",
        "for item_id, rating in predictions[:10]:\n",
        "    print(f\"Фільм {trainset.to_raw_iid(item_id)} з прогнозованим рейтингом {rating:.2f}\")"
      ],
      "metadata": {
        "colab": {
          "base_uri": "https://localhost:8080/"
        },
        "id": "5FElox33QG52",
        "outputId": "21c5664e-f8f1-484a-9368-d753a8583575"
      },
      "execution_count": 6,
      "outputs": [
        {
          "output_type": "stream",
          "name": "stdout",
          "text": [
            "Кількість рецензій користувача 75: 66\n",
            "Топ-10 фільмів, рекомендованих для користувача:\n",
            "Фільм 474 з прогнозованим рейтингом 5.00\n",
            "Фільм 185 з прогнозованим рейтингом 5.00\n",
            "Фільм 318 з прогнозованим рейтингом 5.00\n",
            "Фільм 603 з прогнозованим рейтингом 4.92\n",
            "Фільм 429 з прогнозованим рейтингом 4.80\n",
            "Фільм 59 з прогнозованим рейтингом 4.76\n",
            "Фільм 423 з прогнозованим рейтингом 4.74\n",
            "Фільм 20 з прогнозованим рейтингом 4.73\n",
            "Фільм 1143 з прогнозованим рейтингом 4.73\n",
            "Фільм 480 з прогнозованим рейтингом 4.73\n"
          ]
        }
      ]
    },
    {
      "cell_type": "code",
      "source": [
        "'''Завдання 2.\n",
        "1. Побудуйте власну рекомендаційну систему (приклад є в документації).\n",
        "Оцініть її.'''\n",
        "from surprise import NMF, NormalPredictor\n",
        "from surprise.model_selection import cross_validate\n",
        "\n",
        "algo_nmf = NMF()\n",
        "\n",
        "algo_random = NormalPredictor()\n",
        "\n",
        "cv_nmf = cross_validate(algo_nmf, data, measures=['RMSE', 'MAE'], cv=5, verbose=True)\n",
        "\n",
        "cv_random = cross_validate(algo_random, data, measures=['RMSE', 'MAE'], cv=5, verbose=True)\n",
        "\n",
        "print(f\"Результати для NMF:\\nRMSE: {cv_nmf['test_rmse'].mean()}\\nMAE: {cv_nmf['test_mae'].mean()}\")\n",
        "print(f\"Результати для випадкового прогнозу:\\nRMSE: {cv_random['test_rmse'].mean()}\\nMAE: {cv_random['test_mae'].mean()}\")\n"
      ],
      "metadata": {
        "colab": {
          "base_uri": "https://localhost:8080/"
        },
        "id": "n-5DXVMPQG8Q",
        "outputId": "663eec8b-6cf4-483a-a1bd-b727ce25a78c"
      },
      "execution_count": 7,
      "outputs": [
        {
          "output_type": "stream",
          "name": "stdout",
          "text": [
            "Evaluating RMSE, MAE of algorithm NMF on 5 split(s).\n",
            "\n",
            "                  Fold 1  Fold 2  Fold 3  Fold 4  Fold 5  Mean    Std     \n",
            "RMSE (testset)    0.9656  0.9660  0.9716  0.9560  0.9650  0.9648  0.0050  \n",
            "MAE (testset)     0.7593  0.7592  0.7641  0.7507  0.7593  0.7585  0.0043  \n",
            "Fit time          1.90    1.97    2.35    3.93    2.03    2.43    0.76    \n",
            "Test time         0.10    0.24    0.21    0.10    0.11    0.15    0.06    \n",
            "Evaluating RMSE, MAE of algorithm NormalPredictor on 5 split(s).\n",
            "\n",
            "                  Fold 1  Fold 2  Fold 3  Fold 4  Fold 5  Mean    Std     \n",
            "RMSE (testset)    1.5212  1.5171  1.5214  1.5088  1.5128  1.5162  0.0049  \n",
            "MAE (testset)     1.2209  1.2228  1.2229  1.2154  1.2121  1.2188  0.0043  \n",
            "Fit time          0.10    0.12    0.12    0.17    0.12    0.13    0.02    \n",
            "Test time         0.08    0.20    0.08    0.24    0.08    0.14    0.07    \n",
            "Результати для NMF:\n",
            "RMSE: 0.9648324251432239\n",
            "MAE: 0.7585077082522316\n",
            "Результати для випадкового прогнозу:\n",
            "RMSE: 1.5162423037570087\n",
            "MAE: 1.2188002505189668\n"
          ]
        }
      ]
    },
    {
      "cell_type": "code",
      "source": [
        "'''2. Отримайте рекомендацію для певного користувача.'''\n",
        "algo_nmf.fit(trainset)\n",
        "\n",
        "user_id = str(75)\n",
        "user_ratings = trainset.ur[trainset.to_inner_uid(user_id)]\n",
        "\n",
        "unrated_items = all_items - rated_items\n",
        "predictions = [(item, algo_nmf.predict(user_id, trainset.to_raw_iid(item)).est) for item in unrated_items]\n",
        "predictions.sort(key=lambda x: x[1], reverse=True)\n",
        "\n",
        "print(f\"Топ-10 рекомендацій для користувача {user_id}:\")\n",
        "for item_id, rating in predictions[:10]:\n",
        "    print(f\"Фільм {trainset.to_raw_iid(item_id)} з прогнозованим рейтингом {rating:.2f}\")\n"
      ],
      "metadata": {
        "colab": {
          "base_uri": "https://localhost:8080/"
        },
        "id": "ukv5EjPSQG-k",
        "outputId": "5d4d8cc4-9ce1-4e75-8d31-67796ee5b06a"
      },
      "execution_count": 8,
      "outputs": [
        {
          "output_type": "stream",
          "name": "stdout",
          "text": [
            "Топ-10 рекомендацій для користувача 75:\n",
            "Фільм 170 з прогнозованим рейтингом 5.00\n",
            "Фільм 483 з прогнозованим рейтингом 5.00\n",
            "Фільм 1591 з прогнозованим рейтингом 5.00\n",
            "Фільм 1397 з прогнозованим рейтингом 5.00\n",
            "Фільм 1021 з прогнозованим рейтингом 5.00\n",
            "Фільм 958 з прогнозованим рейтингом 5.00\n",
            "Фільм 1039 з прогнозованим рейтингом 5.00\n",
            "Фільм 1019 з прогнозованим рейтингом 5.00\n",
            "Фільм 169 з прогнозованим рейтингом 5.00\n",
            "Фільм 1598 з прогнозованим рейтингом 5.00\n"
          ]
        }
      ]
    },
    {
      "cell_type": "code",
      "source": [
        "'''У ході лабораторної роботи було вивчено рекомендаційні системи за допомогою\n",
        "бібліотеки Surprise. Ми використали датасет рецензій (ml-100k) і реалізували\n",
        "алгоритми SVD та KNNBasic, провівши крос-валідацію для підбору оптимальних\n",
        "параметрів. Також була побудована рекомендаційна система на\n",
        "основі алгоритму NMF, результати якої порівняли з випадковим прогнозуванням.\n",
        "Метод факторизації матриць продемонстрував свою ефективність. '''"
      ],
      "metadata": {
        "id": "cMKnhzd3QHH5"
      },
      "execution_count": null,
      "outputs": []
    }
  ]
}